{
 "cells": [
  {
   "cell_type": "code",
   "execution_count": 62,
   "metadata": {},
   "outputs": [],
   "source": [
    "from pykml import parser\n",
    "import urllib.request\n",
    "import xml\n",
    "\n",
    "url = 'https://geoftp.ibge.gov.br/organizacao_do_territorio/malhas_territoriais/malhas_de_setores_censitarios__divisoes_intramunicipais/2019/Malha_de_setores_(kml)_por_municipios/UF/SE/2806305_Santa%20Luzia%20do%20Itanhy_Setores_2019.kml'\n",
    "data = urllib.request.urlopen(url)\n",
    "dados_kml = parser.parse(data).getroot().Document.Folder"
   ]
  },
  {
   "cell_type": "code",
   "execution_count": 72,
   "metadata": {},
   "outputs": [
    {
     "name": "stdout",
     "output_type": "stream",
     "text": [
      "-37.4704860209999,-11.4358804687901,0.0 -37.472064545,-11.4359782187901,0.0 -37.4721081509999,-11.4349039957901,0.0 -37.471209764,-11.4321084357903,0.0 -37.469912305,-11.4269772507903,0.0 -37.4698990489999,-11.4269248247904,0.0 -37.469884764,-11.4268683337903,0.0 -37.4698558769999,-11.4267540907904,0.0 -37.466475316,-11.4251967597903,0.0 -37.4656866289999,-11.4251320567903,0.0 -37.4683589089999,-11.4341609087903,0.0 -37.4684301139999,-11.4344014897903,0.0 -37.4704860209999,-11.4358804687901,0.0\n",
      "-37.4875453939999,-11.4093662747907,0.0 -37.487579604,-11.4094236277907,0.0 -37.4876963739999,-11.4093917817906,0.0 -37.4882035059999,-11.4092534727907,0.0 -37.4899324049999,-11.4075067057906,0.0 -37.491158953,-11.4067273627907,0.0 -37.4926592939999,-11.4066799277907,0.0 -37.4954278079999,-11.4071696957906,0.0 -37.4973754159999,-11.4067592767906,0.0 -37.49961367,-11.4071911387907,0.0 -37.501294806,-11.4079673107906,0.0 -37.501427855,-11.4080313627907,0.0 -37.5032394349999,-11.4089454767907,0.0 -37.504144147,-11.4086038757907,0.0 -37.5040892719999,-11.4083145557906,0.0 -37.504065752,-11.4081905497907,0.0 -37.504025471,-11.4079781777906,0.0 -37.5031647269999,-11.4082182537907,0.0 -37.5018744119999,-11.4070056027907,0.0 -37.4994006219999,-11.4055310367907,0.0 -37.4966405119999,-11.4055349857908,0.0 -37.495219591,-11.4058152007907,0.0 -37.4933510769999,-11.4054765197908,0.0 -37.490480003,-11.4054979227907,0.0 -37.4903252469999,-11.4056574517908,0.0 -37.4902723659999,-11.4057119647908,0.0 -37.490220455,-11.4057654767907,0.0 -37.4894563509999,-11.4065531507907,0.0 -37.4878708039999,-11.4085048937907,0.0 -37.4875940149999,-11.4092375697907,0.0 -37.4875453939999,-11.4093662747907,0.0\n",
      "-37.5628619289999,-11.3802025877912,0.0 -37.5571065579999,-11.3827090687911,0.0 -37.5551005939999,-11.3812351327912,0.0 -37.5545305639999,-11.3818365627912,0.0 -37.5554385409999,-11.3834354947911,0.0 -37.555609487,-11.384424534791,0.0 -37.5582615069999,-11.384750382791,0.0 -37.564428214,-11.3842426987911,0.0 -37.5638235389999,-11.383918837791,0.0 -37.563810055,-11.383901464791,0.0 -37.563477747,-11.3836156327911,0.0 -37.5632315669999,-11.383285010791,0.0 -37.5628535239999,-11.3826266417911,0.0 -37.5628222519999,-11.3825460937912,0.0 -37.562678632,-11.3822172107912,0.0 -37.562477907,-11.3818418177911,0.0 -37.562393626,-11.3814973997911,0.0 -37.5624173789999,-11.3812819997911,0.0 -37.5624846369999,-11.3810638817912,0.0 -37.562571641,-11.3809053337912,0.0 -37.562690092,-11.3807313687911,0.0 -37.5628239749999,-11.3804580377912,0.0 -37.562942441,-11.3801744147911,0.0 -37.5628619289999,-11.3802025877912,0.0\n"
     ]
    },
    {
     "ename": "AttributeError",
     "evalue": "no such child: {http://www.opengis.net/kml/2.2}innerBoundaryIs",
     "output_type": "error",
     "traceback": [
      "\u001b[1;31m---------------------------------------------------------------------------\u001b[0m",
      "\u001b[1;31mAttributeError\u001b[0m                            Traceback (most recent call last)",
      "\u001b[1;32m<ipython-input-72-262cbe3a58c4>\u001b[0m in \u001b[0;36m<module>\u001b[1;34m\u001b[0m\n\u001b[0;32m      1\u001b[0m \u001b[1;32mfor\u001b[0m \u001b[0mi\u001b[0m \u001b[1;32min\u001b[0m \u001b[0mdados_kml\u001b[0m\u001b[1;33m.\u001b[0m\u001b[0miterchildren\u001b[0m\u001b[1;33m(\u001b[0m\u001b[1;33m)\u001b[0m\u001b[1;33m:\u001b[0m \u001b[1;31m#iterando por todos os Placemarks\u001b[0m\u001b[1;33m\u001b[0m\u001b[1;33m\u001b[0m\u001b[0m\n\u001b[0;32m      2\u001b[0m     \u001b[1;32mif\u001b[0m \u001b[0mhasattr\u001b[0m\u001b[1;33m(\u001b[0m\u001b[0mi\u001b[0m\u001b[1;33m,\u001b[0m \u001b[1;34m'Polygon'\u001b[0m\u001b[1;33m)\u001b[0m\u001b[1;33m:\u001b[0m \u001b[1;31m#A primeira filha de Folder é uma string com o nome da cidade, essa verificação faz com que você pegue apenas as árvores xml\u001b[0m\u001b[1;33m\u001b[0m\u001b[1;33m\u001b[0m\u001b[0m\n\u001b[1;32m----> 3\u001b[1;33m         \u001b[0mprint\u001b[0m\u001b[1;33m(\u001b[0m\u001b[0mi\u001b[0m\u001b[1;33m.\u001b[0m\u001b[0mPolygon\u001b[0m\u001b[1;33m.\u001b[0m\u001b[0minnerBoundaryIs\u001b[0m\u001b[1;33m.\u001b[0m\u001b[0mLinearRing\u001b[0m\u001b[1;33m.\u001b[0m\u001b[0mcoordinates\u001b[0m\u001b[1;33m)\u001b[0m\u001b[1;33m\u001b[0m\u001b[1;33m\u001b[0m\u001b[0m\n\u001b[0m\u001b[0;32m      4\u001b[0m \u001b[1;31m#Há um retorno de erro, pois o Placemark 'kml_4' não tem tag innerBoundaryIs\u001b[0m\u001b[1;33m\u001b[0m\u001b[1;33m\u001b[0m\u001b[1;33m\u001b[0m\u001b[0m\n\u001b[0;32m      5\u001b[0m \u001b[1;31m#Preciso criar uma forma de verificar se cada Placemark tem o outer e o inner e só tentar ler nas árvores que tem essas tags\u001b[0m\u001b[1;33m\u001b[0m\u001b[1;33m\u001b[0m\u001b[1;33m\u001b[0m\u001b[0m\n",
      "\u001b[1;32msrc/lxml/objectify.pyx\u001b[0m in \u001b[0;36mlxml.objectify.ObjectifiedElement.__getattr__\u001b[1;34m()\u001b[0m\n",
      "\u001b[1;32msrc/lxml/objectify.pyx\u001b[0m in \u001b[0;36mlxml.objectify._lookupChildOrRaise\u001b[1;34m()\u001b[0m\n",
      "\u001b[1;31mAttributeError\u001b[0m: no such child: {http://www.opengis.net/kml/2.2}innerBoundaryIs"
     ]
    }
   ],
   "source": [
    "for i in dados_kml.iterchildren(): #iterando por todos os Placemarks\n",
    "    if hasattr(i, 'Polygon'): #A primeira filha de Folder é uma string com o nome da cidade, essa verificação faz com que você pegue apenas as árvores xml \n",
    "        print(i.Polygon.innerBoundaryIs.LinearRing.coordinates)\n",
    "#Há um retorno de erro, pois o Placemark 'kml_4' não tem tag innerBoundaryIs\n",
    "#Preciso criar uma forma de verificar se cada Placemark tem o outer e o inner e só tentar ler nas árvores que tem essas tags"
   ]
  },
  {
   "cell_type": "code",
   "execution_count": null,
   "metadata": {},
   "outputs": [],
   "source": []
  },
  {
   "cell_type": "code",
   "execution_count": null,
   "metadata": {},
   "outputs": [],
   "source": []
  },
  {
   "cell_type": "code",
   "execution_count": null,
   "metadata": {},
   "outputs": [],
   "source": []
  },
  {
   "cell_type": "code",
   "execution_count": null,
   "metadata": {},
   "outputs": [],
   "source": []
  }
 ],
 "metadata": {
  "kernelspec": {
   "display_name": "Python 3",
   "language": "python",
   "name": "python3"
  },
  "language_info": {
   "codemirror_mode": {
    "name": "ipython",
    "version": 3
   },
   "file_extension": ".py",
   "mimetype": "text/x-python",
   "name": "python",
   "nbconvert_exporter": "python",
   "pygments_lexer": "ipython3",
   "version": "3.8.5"
  }
 },
 "nbformat": 4,
 "nbformat_minor": 4
}
